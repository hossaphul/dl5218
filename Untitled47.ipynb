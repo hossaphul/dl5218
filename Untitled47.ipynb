{
  "nbformat": 4,
  "nbformat_minor": 0,
  "metadata": {
    "colab": {
      "name": "Untitled47.ipynb",
      "provenance": []
    },
    "kernelspec": {
      "name": "python3",
      "display_name": "Python 3"
    },
    "language_info": {
      "name": "python"
    }
  },
  "cells": [
    {
      "cell_type": "code",
      "execution_count": 1,
      "metadata": {
        "colab": {
          "base_uri": "https://localhost:8080/"
        },
        "id": "ZxOmGOjBjtG8",
        "outputId": "3c23726f-cf99-4d3f-f965-6a2d40758846"
      },
      "outputs": [
        {
          "output_type": "stream",
          "name": "stdout",
          "text": [
            "My name is Akbar Sarkar\n"
          ]
        }
      ],
      "source": [
        "print(\"My name is Akbar Sarkar\")"
      ]
    }
  ]
}